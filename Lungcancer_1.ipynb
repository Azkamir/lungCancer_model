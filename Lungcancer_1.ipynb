{
 "cells": [
  {
   "cell_type": "code",
   "execution_count": 2,
   "id": "31ddb938",
   "metadata": {},
   "outputs": [],
   "source": [
    "import pandas as pd\n",
    "import numpy as np\n",
    "from sklearn.model_selection import train_test_split, cross_validate, StratifiedKFold\n",
    "from sklearn.ensemble import RandomForestClassifier, VotingClassifier\n",
    "from sklearn.linear_model import LogisticRegression\n",
    "from sklearn.svm import SVC\n",
    "from sklearn.preprocessing import StandardScaler\n",
    "from sklearn.pipeline import Pipeline\n",
    "from sklearn.metrics import classification_report, accuracy_score, precision_score, recall_score, f1_score\n",
    "from imblearn.over_sampling import SMOTE\n",
    "from imblearn.pipeline import Pipeline as ImbPipeline\n",
    "from sklearn.feature_selection import SelectFromModel"
   ]
  },
  {
   "cell_type": "code",
   "execution_count": null,
   "id": "cb61c370",
   "metadata": {},
   "outputs": [],
   "source": [
    "\n",
    "df = pd.read_csv('/LungcancerDs.csv')\n",
    "df.drop(['Patient Id'], axis=1, inplace=True)\n",
    "df.drop(['index'], axis=1, inplace=True)"
   ]
  },
  {
   "cell_type": "code",
   "execution_count": null,
   "id": "3b912dc7",
   "metadata": {},
   "outputs": [],
   "source": [
    "\n",
    "df['Level'] = df['Level'].map({'Low': 0, 'Medium': 1, 'High': 2})\n",
    "columns = df.columns[df.dtypes == 'object']\n",
    "df[columns] = df[columns].apply(pd.to_numeric, errors='coerce')\n",
    "df.dropna(inplace=True) \n",
    "\n",
    "X = df.drop('Level', axis=1)\n",
    "y = df['Level']\n",
    "\n"
   ]
  },
  {
   "cell_type": "code",
   "execution_count": null,
   "id": "f0d8f40d",
   "metadata": {},
   "outputs": [],
   "source": [
    "missing_values=df.isnull().sum()\n",
    "print(missing_values)\n",
    "df.duplicated().sum()"
   ]
  },
  {
   "cell_type": "code",
   "execution_count": null,
   "id": "36c4d3a1",
   "metadata": {},
   "outputs": [],
   "source": [
    "#Visualization\n",
    "df.corr()\n",
    "\n",
    "import matplotlib.pyplot as plt\n",
    "\n",
    "plt.figure(figsize = (20, 25))\n",
    "plotnumber = 1\n",
    "for column in df:\n",
    "    if plotnumber <= 9:\n",
    "        ax = plt.subplot(3, 3, plotnumber)\n",
    "        sns.distplot(df[column])\n",
    "        plt.xlabel(column, fontsize = 15)\n",
    "        \n",
    "    plotnumber += 1\n",
    "plt.show()"
   ]
  },
  {
   "cell_type": "code",
   "execution_count": null,
   "id": "06309d41",
   "metadata": {},
   "outputs": [],
   "source": [
    "plt.figure(figsize=(20,10))\n",
    "sns.heatmap(df.corr(), annot=True);\n",
    "plt.show()"
   ]
  },
  {
   "cell_type": "code",
   "execution_count": null,
   "id": "7644190b",
   "metadata": {},
   "outputs": [],
   "source": [
    "for column in df.columns:\n",
    "    sns.boxplot(df[column])\n",
    "    plt.title(f\"Box Plot for {column}\")\n",
    "    plt.show()"
   ]
  },
  {
   "cell_type": "code",
   "execution_count": null,
   "id": "2fa12e1d",
   "metadata": {},
   "outputs": [],
   "source": [
    "overall_min=df.min()\n",
    "print(overall_min)\n"
   ]
  },
  {
   "cell_type": "code",
   "execution_count": null,
   "id": "e1f17dfd",
   "metadata": {},
   "outputs": [],
   "source": [
    "total = float(df.shape[0])\n",
    "ploting = sns.countplot(x='Level', data=df)\n",
    "for p in ploting.patches:\n",
    "    height = p.get_height()\n",
    "    ploting.text(p.get_x() + p.get_width()/2,\n",
    "           height,\n",
    "           '{:.0f}'.format((height)),\n",
    "           ha='center',fontweight='bold')\n",
    "plt.title('Class Count', fontweight='bold')\n",
    "plt.legend()\n",
    "#plt.legend(prop={'weight':'bold'})\n",
    "plt.show()"
   ]
  },
  {
   "cell_type": "code",
   "execution_count": null,
   "id": "b3257834",
   "metadata": {},
   "outputs": [],
   "source": [
    "df['Level'] = df['Level'].map({'Low':0,'Medium':1,'High':2})\n",
    "df.plot()"
   ]
  },
  {
   "cell_type": "code",
   "execution_count": null,
   "id": "2efddf78",
   "metadata": {},
   "outputs": [],
   "source": [
    "## plot the distribution\n",
    "\n",
    "#print('Class distribution after oversampling:', pd.Series(y_resampled).value_counts())\n",
    "counter = Counter(y_resampled)\n",
    "print('After',counter)\n",
    "pyplot.bar(counter.keys(), counter.values())\n",
    "for x,y in counter.items():\n",
    "    pyplot.annotate(str(y),(x,y), ha= 'center', va='bottom')\n",
    "plt.title('Class Count', fontweight='bold')\n",
    "plt.legend()\n",
    "#plt.legend(prop={'weight':'bold'})\n",
    "plt.show()"
   ]
  },
  {
   "cell_type": "code",
   "execution_count": null,
   "id": "c774ef24",
   "metadata": {},
   "outputs": [],
   "source": [
    "selector=SelectKBest(f_classif, k=9)\n",
    "selector.fit(X,Y)\n",
    "X_train = selector.transform(x_train)\n",
    "print(\"Num Features before:\", x_train.shape[1])\n",
    "print(\"Num Features after:\", X_train.shape[1])\n",
    "####\n",
    "#selector=SelectKBest(f_classif,k=13)\n",
    "#selector.fit(X,Y)\n",
    "mask= selector.get_support()\n",
    "\n",
    "feature_names= X.columns[mask]"
   ]
  },
  {
   "cell_type": "code",
   "execution_count": null,
   "id": "d5f92c4f",
   "metadata": {},
   "outputs": [
    {
     "name": "stdout",
     "output_type": "stream",
     "text": [
      "Selected Features: ['Alcohol use', 'Genetic Risk', 'Balanced Diet', 'Obesity', 'Passive Smoker', 'Chest Pain', 'Coughing of Blood', 'Fatigue', 'Shortness of Breath', 'Wheezing', 'Swallowing Difficulty', 'Snoring']\n",
      "\n",
      "Cross-Validation Results (10-fold):\n",
      "accuracy: 0.991 ± 0.009\n",
      "f1_macro: 0.991 ± 0.010\n",
      "precision_macro: 0.991 ± 0.009\n",
      "recall_macro: 0.991 ± 0.010\n",
      "\n",
      "Classification Report on Hold-out Test Set:\n",
      "              precision    recall  f1-score   support\n",
      "\n",
      "           0       0.96      1.00      0.98        91\n",
      "           1       1.00      0.96      0.98       100\n",
      "           2       1.00      1.00      1.00       109\n",
      "\n",
      "    accuracy                           0.99       300\n",
      "   macro avg       0.99      0.99      0.99       300\n",
      "weighted avg       0.99      0.99      0.99       300\n",
      "\n",
      "Test Set Accuracy: 0.987\n"
     ]
    }
   ],
   "source": [
    "\n",
    "x_train, x_test, y_train, y_test = train_test_split(X, y, stratify=y, test_size=0.3, random_state=42)\n",
    "\n",
    "fs_model = RandomForestClassifier(n_estimators=100, random_state=42)\n",
    "fs_model.fit(x_train, y_train)\n",
    "selector = SelectFromModel(fs_model, threshold='median')\n",
    "selector.fit(x_train, y_train)\n",
    "x_train_fs = selector.transform(x_train)\n",
    "x_test_fs = selector.transform(x_test)\n",
    "selected_features = X.columns[selector.get_support()].tolist()\n",
    "print(\"Selected Features:\", selected_features)\n",
    "\n",
    "rf = RandomForestClassifier(n_estimators=30, max_depth=3, random_state=42)\n",
    "svm = SVC(kernel='rbf', C=0.7, gamma='scale', probability=True, random_state=42)\n",
    "lr = LogisticRegression(C=0.5, solver='liblinear', random_state=42)\n",
    "\n",
    "ensemble = VotingClassifier(estimators=[\n",
    "    ('lr', lr),\n",
    "    ('rf', rf),\n",
    "    ('svm', svm)\n",
    "], voting='soft', weights=[1, 2, 1])\n",
    "\n",
    "pipeline = ImbPipeline(steps=[\n",
    "    ('scaler', StandardScaler()),\n",
    "    ('smote', SMOTE(k_neighbors=4, random_state=42)),\n",
    "    ('model', ensemble)\n",
    "])\n",
    "\n",
    "\n",
    "cv = StratifiedKFold(n_splits=10, shuffle=True, random_state=42)\n",
    "scoring = ['accuracy', 'f1_macro', 'precision_macro', 'recall_macro']\n",
    "cv_results = cross_validate(pipeline, x_train_fs, y_train, cv=cv, scoring=scoring)\n",
    "\n",
    "print(\"\\nCross-Validation Results (10-fold):\")\n",
    "for metric in scoring:\n",
    "    scores = cv_results[f'test_{metric}']\n",
    "    print(f\"{metric}: {scores.mean():.3f} ± {scores.std():.3f}\")\n",
    "\n",
    "\n",
    "pipeline.fit(x_train_fs, y_train)\n",
    "y_pred = pipeline.predict(x_test_fs)\n",
    "\n",
    "print(\"\\nClassification Report on Hold-out Test Set:\")\n",
    "print(classification_report(y_test, y_pred))\n"
   ]
  },
  {
   "cell_type": "code",
   "execution_count": null,
   "id": "37fb53c8",
   "metadata": {},
   "outputs": [
    {
     "name": "stdout",
     "output_type": "stream",
     "text": [
      " Model and selector saved as lung_model.sav and lung_selector.sav\n"
     ]
    }
   ],
   "source": [
    "import joblib\n",
    "joblib.dump(selector, \"lung_selector.sav\")\n",
    "joblib.dump(pipeline, \"lung_model.sav\")\n",
    "\n",
    "print(\" Model and selector saved as lung_model.sav and lung_selector.sav\")\n"
   ]
  }
 ],
 "metadata": {
  "kernelspec": {
   "display_name": "Python 3",
   "language": "python",
   "name": "python3"
  },
  "language_info": {
   "codemirror_mode": {
    "name": "ipython",
    "version": 3
   },
   "file_extension": ".py",
   "mimetype": "text/x-python",
   "name": "python",
   "nbconvert_exporter": "python",
   "pygments_lexer": "ipython3",
   "version": "3.10.11"
  }
 },
 "nbformat": 4,
 "nbformat_minor": 5
}
